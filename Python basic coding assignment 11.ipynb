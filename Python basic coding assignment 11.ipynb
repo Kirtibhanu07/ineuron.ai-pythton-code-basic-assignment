{
 "cells": [
  {
   "cell_type": "code",
   "execution_count": 5,
   "metadata": {},
   "outputs": [
    {
     "name": "stdout",
     "output_type": "stream",
     "text": [
      "Enter your value: Hello How are you? let's complete ineuron assignment\n",
      "Enter a number: 4\n",
      "Hello\n",
      "let's\n",
      "complete\n",
      "ineuron\n",
      "assignment\n"
     ]
    }
   ],
   "source": [
    "#1. Write a Python program to find words which are greater than given length k?\n",
    "\n",
    "str = input(\"Enter your value: \")\n",
    "txt=str.split(\" \")\n",
    "txt\n",
    "n=int(input(\"Enter a number: \"))\n",
    "for x in txt:\n",
    "    if(len(x)>n):\n",
    "        print(x)"
   ]
  },
  {
   "cell_type": "code",
   "execution_count": 3,
   "metadata": {},
   "outputs": [
    {
     "name": "stdout",
     "output_type": "stream",
     "text": [
      "Enter the string : Hello ineuron let's code\n",
      "Enter the index of character to be removed : 7\n",
      "Entered string : Hello ineuron let's code\n",
      "String formed by removing i'th character : Hello ieuron let's code\n"
     ]
    }
   ],
   "source": [
    "# 2. Write a Python program for removing i-th character from a string?\n",
    "\n",
    "Str =  input('Enter the string : ')\n",
    "i = int(input('Enter the index of character to be removed : '))\n",
    "\n",
    "resStr = \"\"\n",
    "\n",
    "for index in range(len(Str)):\n",
    "    if index != i:\n",
    "        resStr = resStr + Str[index]\n",
    "\n",
    "print (\"Entered string : \" +Str)\n",
    "print (\"String formed by removing i'th character : \" + resStr)"
   ]
  },
  {
   "cell_type": "code",
   "execution_count": 6,
   "metadata": {},
   "outputs": [
    {
     "name": "stdout",
     "output_type": "stream",
     "text": [
      "Enter a stringHello world\n",
      "Entered string is :\n",
      "Hello world\n",
      "\n",
      "After split ['hello', 'world']\n",
      "\n",
      "After joining\n",
      "Hello-world\n"
     ]
    }
   ],
   "source": [
    "# 3. Write a Python program to split and join a string?\n",
    "\n",
    "str=input(\"Enter a string\")\n",
    "print(\"Entered string is :\")\n",
    "print(str)\n",
    "print(\"\\nAfter split\",txt)\n",
    "txt= str.split(' ')\n",
    "print(\"\\nAfter joining\")\n",
    "str1=\"-\".join(txt)\n",
    "print(str1)"
   ]
  },
  {
   "cell_type": "code",
   "execution_count": 9,
   "metadata": {},
   "outputs": [
    {
     "name": "stdout",
     "output_type": "stream",
     "text": [
      "Enter a string: 10101101\n",
      "10101101\n",
      "StringA is a binary string.\n",
      "Enter another stringineuron\n",
      "ineuron\n",
      "StringB is not a binary string.\n"
     ]
    }
   ],
   "source": [
    "# 4. Write a Python to check if a given string is binary string or not?\n",
    "\n",
    "strA = input(\"Enter a string: \")\n",
    "print(strA)\n",
    "b = {'0','1'}\n",
    "t = set(strA)\n",
    "\n",
    "if b == t or t == {'0'} or t == {'1'}:\n",
    "    print(\"StringA is a binary string.\")\n",
    "else:\n",
    "    print(\"StringA is not a binary string.\")\n",
    "\n",
    "strB = input(\"Enter another string\")\n",
    "print(strB)\n",
    "u = set(strB)\n",
    "\n",
    "if b == u or u == {'0'} or u == {'1'}:\n",
    "    print(\"StringB is a binary string.\")\n",
    "else:\n",
    "    print(\"StringB is not a binary string.\")"
   ]
  },
  {
   "cell_type": "code",
   "execution_count": 12,
   "metadata": {},
   "outputs": [
    {
     "name": "stdout",
     "output_type": "stream",
     "text": [
      "Enter a string: hello world this is ineuron\n",
      "Enter another string: hello this is ineuron \n",
      "Uncommon words: \n",
      " world\n"
     ]
    }
   ],
   "source": [
    "#5. Write a Python program to find uncommon words from two Strings?\n",
    "\n",
    "def uncommon(a,b):\n",
    "    list_a = a.split()\n",
    "    list_b = b.split()\n",
    "    uc = ''\n",
    "    for i in list_a:\n",
    "        if i not in list_b:\n",
    "            uc = uc+\" \"+i\n",
    "    for j in list_b:\n",
    "        if j not in list_a:\n",
    "            uc = uc+\" \"+j\n",
    "  \n",
    "    return uc\n",
    "  \n",
    "a = input(\"Enter a string: \")\n",
    "b = input(\"Enter another string: \")\n",
    "print(\"Uncommon words: \")\n",
    "print(uncommon(a,b))"
   ]
  },
  {
   "cell_type": "code",
   "execution_count": 5,
   "metadata": {},
   "outputs": [
    {
     "name": "stdout",
     "output_type": "stream",
     "text": [
      "Enter a string: hello world\n",
      "['l', 'o']\n"
     ]
    }
   ],
   "source": [
    "# 6. Write a Python to find all duplicate characters in string?\n",
    "\n",
    "str=input(\"Enter a string: \")\n",
    "dup=[]\n",
    "for char in str:\n",
    "    if str.count(char)>1:\n",
    "        if char not in dup:\n",
    "            dup.append(char)\n",
    "print(dup)            \n",
    "        "
   ]
  },
  {
   "cell_type": "code",
   "execution_count": 6,
   "metadata": {},
   "outputs": [
    {
     "name": "stdout",
     "output_type": "stream",
     "text": [
      "Enter a string: hello @ world !\n",
      "hello @ world !\n",
      "yes,string contains special character \n"
     ]
    }
   ],
   "source": [
    "# 7. Write a Python Program to check if a string contains any special character?\n",
    "\n",
    "chars = \"!@#$%^&*()-+?_=,<>/\"\n",
    "s=input(\"Enter a string: \")\n",
    "print(s)\n",
    "\n",
    "if any(c in chars for c in s):\n",
    "    print(\"yes,string contains special character \")\n",
    "else:\n",
    "    print(\"no\")\n",
    " "
   ]
  },
  {
   "cell_type": "code",
   "execution_count": null,
   "metadata": {},
   "outputs": [],
   "source": []
  },
  {
   "cell_type": "code",
   "execution_count": null,
   "metadata": {},
   "outputs": [],
   "source": []
  }
 ],
 "metadata": {
  "kernelspec": {
   "display_name": "Python 3",
   "language": "python",
   "name": "python3"
  },
  "language_info": {
   "codemirror_mode": {
    "name": "ipython",
    "version": 3
   },
   "file_extension": ".py",
   "mimetype": "text/x-python",
   "name": "python",
   "nbconvert_exporter": "python",
   "pygments_lexer": "ipython3",
   "version": "3.7.4"
  }
 },
 "nbformat": 4,
 "nbformat_minor": 2
}
