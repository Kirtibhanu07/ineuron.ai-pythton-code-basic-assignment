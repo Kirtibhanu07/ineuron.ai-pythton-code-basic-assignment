{
 "cells": [
  {
   "cell_type": "markdown",
   "metadata": {},
   "source": [
    "## Ineuron python coding assignment basic 1\n"
   ]
  },
  {
   "cell_type": "code",
   "execution_count": 2,
   "metadata": {},
   "outputs": [
    {
     "name": "stdout",
     "output_type": "stream",
     "text": [
      "Hello Python\n"
     ]
    }
   ],
   "source": [
    "## Q1. Write a Python program to print Hello Python?\n",
    "print(\"Hello Python\")"
   ]
  },
  {
   "cell_type": "code",
   "execution_count": 4,
   "metadata": {},
   "outputs": [
    {
     "name": "stdout",
     "output_type": "stream",
     "text": [
      "Enter first number: 8\n",
      "Enter second number: 4\n",
      "The sum of 8 and 4 is 12.0\n",
      "The division of 8 and 4 is 2.0\n"
     ]
    }
   ],
   "source": [
    "## Q2. Write a Python program to do arithmetical operations addition and division.?\n",
    "\n",
    "num1 = input('Enter first number: ')  \n",
    "num2 = input('Enter second number: ')  \n",
    "  \n",
    "# Add two numbers  \n",
    "sum = float(num1) + float(num2)  \n",
    "print('The sum of {0} and {1} is {2}'.format(num1, num2, sum)) \n",
    "\n",
    "#Divide two numbers  \n",
    "div = float(num1) / float(num2)  \n",
    "\n",
    "print('The division of {0} and {1} is {2}'.format(num1, num2, div))  "
   ]
  },
  {
   "cell_type": "code",
   "execution_count": 11,
   "metadata": {},
   "outputs": [
    {
     "name": "stdout",
     "output_type": "stream",
     "text": [
      "enter a length: 5\n",
      "enter breadth: 4\n",
      "10.0\n"
     ]
    }
   ],
   "source": [
    "## Q3.Write a Python program to find the area of a triangle?\n",
    "\n",
    "l=float(input(\"enter a length: \"))\n",
    "b=float(input(\"enter breadth: \"))\n",
    "area=(l*b)/2\n",
    "print(area)"
   ]
  },
  {
   "cell_type": "code",
   "execution_count": 3,
   "metadata": {},
   "outputs": [
    {
     "name": "stdout",
     "output_type": "stream",
     "text": [
      "enter 1st number: 5\n",
      "enter 2nd number: 4\n",
      "first num: 5\n",
      "second num: 4\n",
      "After Swapping:\n",
      "first num: 4\n",
      "second num: 5\n"
     ]
    }
   ],
   "source": [
    "## Q4 .Write a Python program to swap two variables?\n",
    "num1= int(input(\"enter 1st number: \"))\n",
    "num2= int(input(\"enter 2nd number: \"))\n",
    "print(\"first num:\" ,num1)\n",
    "print(\"second num:\", num2)\n",
    "\n",
    "print(\"After Swapping:\")\n",
    "num1=num1+num2\n",
    "num2=num1-num2\n",
    "num1=num1-num2\n",
    "print(\"first num:\" ,num1)\n",
    "print(\"second num:\", num2)\n"
   ]
  },
  {
   "cell_type": "code",
   "execution_count": 4,
   "metadata": {},
   "outputs": [
    {
     "name": "stdout",
     "output_type": "stream",
     "text": [
      "5\n"
     ]
    }
   ],
   "source": [
    "## Q5. Write a Python program to generate a random number?\n",
    "import random\n",
    "print(random.randint(0,9))"
   ]
  },
  {
   "cell_type": "code",
   "execution_count": null,
   "metadata": {},
   "outputs": [],
   "source": []
  }
 ],
 "metadata": {
  "kernelspec": {
   "display_name": "Python 3",
   "language": "python",
   "name": "python3"
  },
  "language_info": {
   "codemirror_mode": {
    "name": "ipython",
    "version": 3
   },
   "file_extension": ".py",
   "mimetype": "text/x-python",
   "name": "python",
   "nbconvert_exporter": "python",
   "pygments_lexer": "ipython3",
   "version": "3.7.4"
  }
 },
 "nbformat": 4,
 "nbformat_minor": 2
}
