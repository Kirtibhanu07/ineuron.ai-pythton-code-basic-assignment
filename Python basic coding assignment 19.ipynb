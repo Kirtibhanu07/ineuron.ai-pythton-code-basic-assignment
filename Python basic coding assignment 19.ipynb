{
 "cells": [
  {
   "cell_type": "code",
   "execution_count": 16,
   "metadata": {},
   "outputs": [
    {
     "name": "stdout",
     "output_type": "stream",
     "text": [
      "Enter a String: hello world\n",
      "hheelllloo  wwoorrlldd\n"
     ]
    }
   ],
   "source": [
    "'''1. Create a function that takes a string and returns a string in which each character is repeated\n",
    "once.\n",
    "Examples\n",
    "double_char(String) ➞ SSttrriinngg\n",
    "double_char(Hello World!) ➞ HHeelllloo WWoorrlldd!!\n",
    "double_char(1234!_ ) ➞ 11223344!!__'''\n",
    "\n",
    "\n",
    "def repeater(string):\n",
    "    n=2\n",
    "    word = ''\n",
    "    for char in list(string):\n",
    "        word += char * n\n",
    "    print (word)\n",
    "\n",
    "str1=input(\"Enter a String: \")\n",
    "repeater(str1)"
   ]
  },
  {
   "cell_type": "code",
   "execution_count": 23,
   "metadata": {},
   "outputs": [
    {
     "name": "stdout",
     "output_type": "stream",
     "text": [
      "False\n",
      "True\n",
      "boolean expected\n",
      "boolean expected\n"
     ]
    }
   ],
   "source": [
    "'''2. Create a function that reverses a boolean value and returns the string boolean expected\n",
    "if another variable type is given.\n",
    "Examples\n",
    "reverse(True) ➞ False\n",
    "reverse(False) ➞ True\n",
    "reverse(0) ➞ boolean expected\n",
    "reverse(None) ➞ boolean expected'''\n",
    "\n",
    "    \n",
    "def reverse(arg=None):\n",
    "    return not arg if type(arg) == bool else \"boolean expected\"\n",
    "\n",
    "print(reverse(True)) # False\n",
    "print(reverse(False)) # True\n",
    "print(reverse(0)) # \"boolean expected\"\n",
    "print(reverse(None)) # \"boolean expected\""
   ]
  },
  {
   "cell_type": "code",
   "execution_count": 2,
   "metadata": {},
   "outputs": [
    {
     "name": "stdout",
     "output_type": "stream",
     "text": [
      "Enter  the number of folds: 4\n",
      "Thickness of Paper in meters: \n"
     ]
    },
    {
     "data": {
      "text/plain": [
       "0.008"
      ]
     },
     "execution_count": 2,
     "metadata": {},
     "output_type": "execute_result"
    }
   ],
   "source": [
    "'''3. Create a function that returns the thickness (in meters) of a piece of paper after folding it n\n",
    "number of times. The paper starts off with a thickness of 0.5mm.\n",
    "Examples\n",
    "num_layers(1) ➞ 0.001m\n",
    "# Paper folded once is 1mm (equal to 0.001m)\n",
    "num_layers(4) ➞ 0.008m\n",
    "# Paper folded 4 times is 8mm (equal to 0.008m)\n",
    "num_layers(21) ➞ 1048.576m\n",
    "# Paper folded 21 times is 1048576mm (equal to 1048.576m'''\n",
    "\n",
    "\n",
    "def fold(a):\n",
    "    res = 0.5\n",
    "    for _ in range(a):\n",
    "        res *= 2\n",
    "    print(\"Thickness of Paper in meters: \")\n",
    "    return res / 1000 \n",
    "\n",
    "n=int(input(\"Enter  the number of folds: \"))\n",
    "fold(n)"
   ]
  },
  {
   "cell_type": "code",
   "execution_count": 3,
   "metadata": {},
   "outputs": [
    {
     "name": "stdout",
     "output_type": "stream",
     "text": [
      "Enter a string:eDaBiT\n",
      "The original string is : eDaBiT\n",
      "Uppercase elements indices : [1, 3, 5]\n"
     ]
    }
   ],
   "source": [
    "'''Question4\n",
    "\n",
    "Create a function that takes a single string as argument and returns an ordered list containing\n",
    "the indices of all capital letters in the string.\n",
    "Examples\n",
    "index_of_caps(eDaBiT) ➞ [1, 3, 5]\n",
    "index_of_caps(eQuINoX) ➞ [1, 3, 4, 6]\n",
    "index_of_caps(determine) ➞ []\n",
    "index_of_caps(STRIKE) ➞ [0, 1, 2, 3, 4, 5]\n",
    "index_of_caps(sUn) ➞ [1]'''\n",
    "\n",
    "test_str = input(\"Enter a string:\" )\n",
    "print(\"The original string is : \" + str(test_str))\n",
    "res = [idx for idx in range(len(test_str)) if test_str[idx].isupper()]\n",
    "print(\"Uppercase elements indices : \" + str(res)) \n"
   ]
  },
  {
   "cell_type": "code",
   "execution_count": 3,
   "metadata": {},
   "outputs": [
    {
     "name": "stdout",
     "output_type": "stream",
     "text": [
      "Enter number of elements : 5\n",
      "1\n",
      "4\n",
      "5\n",
      "8\n",
      "9\n",
      "Entered List:  [1, 4, 5, 8, 9]\n",
      "4 8 "
     ]
    }
   ],
   "source": [
    "'''Question5\n",
    "Using list comprehensions, create a function that finds all even numbers from 1 to the given\n",
    "number.\n",
    "Examples\n",
    "find_even_nums(8) ➞ [2, 4, 6, 8]\n",
    "find_even_nums(4) ➞ [2, 4]\n",
    "find_even_nums(2) ➞ [2]'''\n",
    "\n",
    "list1=[]\n",
    "n = int(input(\"Enter number of elements : \"))\n",
    "for i in range(0, n):\n",
    "    ele = int(input())\n",
    "    list1.append(ele) # adding the element\n",
    "print(\"Entered List: \",list1)\n",
    "    \n",
    "for num in list1:\n",
    "    if num % 2 == 0:\n",
    "        print(num, end = \" \")\n"
   ]
  },
  {
   "cell_type": "code",
   "execution_count": null,
   "metadata": {},
   "outputs": [],
   "source": []
  },
  {
   "cell_type": "code",
   "execution_count": null,
   "metadata": {},
   "outputs": [],
   "source": []
  }
 ],
 "metadata": {
  "kernelspec": {
   "display_name": "Python 3",
   "language": "python",
   "name": "python3"
  }
 },
 "nbformat": 4,
 "nbformat_minor": 2
}
