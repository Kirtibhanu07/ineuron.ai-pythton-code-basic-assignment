{
 "cells": [
  {
   "cell_type": "code",
   "execution_count": 9,
   "metadata": {},
   "outputs": [
    {
     "name": "stdout",
     "output_type": "stream",
     "text": [
      "Enter number of elements : 5\n",
      "1\n",
      "2\n",
      "3\n",
      "4\n",
      "5\n",
      "Enter the element to be inserted: 6\n",
      "Entered List:  [1, 2, 3, 4, 5]\n",
      "Updated list:  [2, 3, 4, 5, 6]\n"
     ]
    }
   ],
   "source": [
    "'''1.Write a function that takes a list and a number as arguments. Add the number to the end of\n",
    "the list, then remove the first element of the list. The function should then return the updated\n",
    "list.\n",
    "Examples\n",
    "next_in_line([5, 6, 7, 8, 9], 1) ➞ [6, 7, 8, 9, 1]\n",
    "next_in_line([7, 6, 3, 23, 17], 10) ➞ [6, 3, 23, 17, 10]\n",
    "next_in_line([1, 10, 20, 42 ], 6) ➞ [10, 20, 42, 6]\n",
    "next_in_line([], 6) ➞ No list has been selected'''\n",
    "\n",
    "def update_list(l,n):\n",
    "    print('Entered List: ',l)\n",
    "    l.append(n)\n",
    "    l.pop(0)\n",
    "    return l\n",
    "\n",
    "list1=[]\n",
    "n = int(input(\"Enter number of elements : \"))\n",
    "for i in range(0, n):\n",
    "    ele = int(input())\n",
    "    list1.append(ele)\n",
    "m=int(input(\"Enter the element to be inserted: \"))\n",
    "update_list(list1,m)\n",
    "\n",
    "print(\"Updated list: \",list1)"
   ]
  },
  {
   "cell_type": "code",
   "execution_count": null,
   "metadata": {},
   "outputs": [],
   "source": [
    "'''2.Create the function that takes a list of dictionaries and returns the sum of people's budgets.\n",
    "Examples\n",
    "get_budgets([\n",
    "{ name: John, age: 21, budget: 23000 },\n",
    "{ name: Steve, age: 32, budget: 40000 },\n",
    "{ name: Martin, age: 16, budget: 2700 }\n",
    "]) ➞ 65700\n",
    "get_budgets([\n",
    "{ name: John, age: 21, budget: 29000 },\n",
    "{ name: Steve, age: 32, budget: 32000 },\n",
    "{ name: Martin, age: 16, budget: 1600 }\n",
    "]) ➞ 62600'''\n",
    "\n",
    "def budget(d):\n",
    "    "
   ]
  },
  {
   "cell_type": "code",
   "execution_count": 2,
   "metadata": {},
   "outputs": [
    {
     "name": "stdout",
     "output_type": "stream",
     "text": [
      "Enter a stringhello\n",
      "ehllo\n"
     ]
    }
   ],
   "source": [
    "'''Create a function that takes a string and returns a string with its letters in alphabetical order.\n",
    "alphabet_soup(hello) ➞ ehllo\n",
    "alphabet_soup(edabit) ➞ abdeit\n",
    "alphabet_soup(hacker) ➞ acehkr\n",
    "alphabet_soup(geek) ➞ eegk\n",
    "alphabet_soup(javascript) ➞ aacijprstv'''\n",
    "\n",
    "  \n",
    "def sortString(str1):\n",
    "    return ''.join(sorted(str1))\n",
    "      \n",
    "# Driver code\n",
    "str1 = input(\"Enter a string\")\n",
    "print(sortString(str1))"
   ]
  },
  {
   "cell_type": "code",
   "execution_count": 6,
   "metadata": {},
   "outputs": [
    {
     "name": "stdout",
     "output_type": "stream",
     "text": [
      "Enter the principal amount : 10000\n",
      "Enter the number of years : 10\n",
      "Enter the rate of interest : 0.05\n",
      "Compound interest : 10050.112650131325\n"
     ]
    }
   ],
   "source": [
    "'''Suppose that you invest $10,000 for 10 years at an interest rate of 6% compounded monthly.\n",
    "What will be the value of your investment at the end of the 10 year period?\n",
    "Create a function that accepts the principal p, the term in years t, the interest rate r, and the\n",
    "number of compounding periods per year n. The function returns the value at the end of term\n",
    "rounded to the nearest cent.\n",
    "For the example above:\n",
    "compound_interest(10000, 10, 0.06, 12) ➞ 18193.97\n",
    "Note that the interest rate is given as a decimal and n=12 because with monthly compounding\n",
    "there are 12 periods per year. Compounding can also be done annually, quarterly, weekly, or\n",
    "daily.\n",
    "Examples\n",
    "compound_interest(100, 1, 0.05, 1) ➞ 105.0\n",
    "compound_interest(3500, 15, 0.1, 4) ➞ 15399.26\n",
    "compound_interest(100000, 20, 0.15, 365) ➞ 2007316.26'''\n",
    "\n",
    "\n",
    "def compoundInterest(p, r, t):\n",
    "    ci = p * (pow((1 + r / 100), t)) \n",
    "    return ci\n",
    "   \n",
    "  \n",
    "p = float(input(\"Enter the principal amount : \"))\n",
    " \n",
    "t = float(input(\"Enter the number of years : \"))\n",
    " \n",
    "r = float(input(\"Enter the rate of interest : \"))\n",
    " \n",
    "#call compound interest\n",
    "ci =  compoundInterest(p, r, t) \n",
    " \n",
    "#print\n",
    "print(\"Compound interest : {}\".format(ci))"
   ]
  },
  {
   "cell_type": "code",
   "execution_count": 8,
   "metadata": {},
   "outputs": [
    {
     "name": "stdout",
     "output_type": "stream",
     "text": [
      "Enter number of elements : 6\n",
      "9\n",
      "2\n",
      "space\n",
      "car\n",
      "lion\n",
      "16\n",
      "Entered List:  ['9', '2', 'space', 'car', 'lion', '16']\n",
      "9 2 16 "
     ]
    }
   ],
   "source": [
    "'''Write a function that takes a list of elements and returns only the integers.\n",
    "return_only_integer([9, 2, space, car, lion, 16]) ➞ [9, 2, 16]\n",
    "return_only_integer([hello, 81, basketball, 123, fox]) ➞ [81, 123]\n",
    "return_only_integer([10, 121, 56, 20, car, 3, lion]) ➞ [10, 56, 20,3]\n",
    "return_only_integer([String, True, 3.3, 1]) ➞ [1]'''\n",
    "\n",
    "\n",
    "list1=[]\n",
    "n = int(input(\"Enter number of elements : \"))\n",
    "for i in range(0, n):\n",
    "    ele = (input())\n",
    "    list1.append(ele) # adding the element\n",
    "print(\"Entered List: \",list1)\n",
    "\n",
    "def listInt(list):\n",
    "    for i in list1:\n",
    "        if i.isnumeric()==True:\n",
    "            print(i,end=' ')\n",
    "            \n",
    "listInt(list1)"
   ]
  },
  {
   "cell_type": "code",
   "execution_count": null,
   "metadata": {},
   "outputs": [],
   "source": []
  },
  {
   "cell_type": "code",
   "execution_count": null,
   "metadata": {},
   "outputs": [],
   "source": []
  },
  {
   "cell_type": "code",
   "execution_count": null,
   "metadata": {},
   "outputs": [],
   "source": []
  }
 ],
 "metadata": {
  "kernelspec": {
   "display_name": "Python 3",
   "language": "python",
   "name": "python3"
  },
  "language_info": {
   "codemirror_mode": {
    "name": "ipython",
    "version": 3
   },
   "file_extension": ".py",
   "mimetype": "text/x-python",
   "name": "python",
   "nbconvert_exporter": "python",
   "pygments_lexer": "ipython3",
   "version": "3.7.4"
  }
 },
 "nbformat": 4,
 "nbformat_minor": 2
}
