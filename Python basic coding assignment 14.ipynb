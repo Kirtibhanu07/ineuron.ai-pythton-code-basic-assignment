{
 "cells": [
  {
   "cell_type": "code",
   "execution_count": 29,
   "metadata": {},
   "outputs": [
    {
     "name": "stdout",
     "output_type": "stream",
     "text": [
      "0\n",
      "7\n",
      "14\n",
      "21\n",
      "28\n",
      "35\n",
      "42\n",
      "49\n",
      "56\n",
      "63\n",
      "70\n",
      "77\n"
     ]
    }
   ],
   "source": [
    "'''Define a class with a generator which can iterate the numbers, which are divisible by\n",
    "7, between a given range 0 and n.'''\n",
    "\n",
    "def putNumbers(n):\n",
    "    \n",
    "    i = 0\n",
    "\n",
    "    while i<n:\n",
    "\n",
    "        j=i\n",
    "\n",
    "        i=i+1\n",
    "\n",
    "        if j%7==0:\n",
    "\n",
    "            yield j\n",
    "\n",
    "\n",
    "n=int(79)\n",
    "for i in putNumbers(n):\n",
    "\n",
    "    print(i)"
   ]
  },
  {
   "cell_type": "code",
   "execution_count": 14,
   "metadata": {},
   "outputs": [
    {
     "name": "stdout",
     "output_type": "stream",
     "text": [
      "Enter text: New to Python or choosing between Python 2 and Python 3? Read Python 2 or Python 3\n",
      "[('2', 2), ('3', 1), ('New', 1), ('Python', 5), ('Read', 1), ('and', 1), ('between', 1), ('choosing', 1), ('or', 2), ('to', 1)]\n",
      "2 2\n",
      "3 1\n",
      "New 1\n",
      "Python 5\n",
      "Read 1\n",
      "and 1\n",
      "between 1\n",
      "choosing 1\n",
      "or 2\n",
      "to 1\n"
     ]
    }
   ],
   "source": [
    "'''Write a program to compute the frequency of the words from the input. The output\n",
    "should output after sorting the key alphanumerically.\n",
    "Suppose the following input is supplied to the program:\n",
    "New to Python or choosing between Python 2 and Python 3? Read Python 2 or\n",
    "Python 3.\n",
    "Then, the output should be:\n",
    "2:2\n",
    "3.:1\n",
    "3?:1\n",
    "New:1\n",
    "Python:5\n",
    "Read:1\n",
    "and:1\n",
    "between:1\n",
    "choosing:1\n",
    "or:2\n",
    "to:1'''\n",
    "\n",
    "import operator\n",
    "text = input(\"Enter text: \")\n",
    "\n",
    "freq = {}\n",
    "\n",
    "for i in text.split(' '):\n",
    "    \n",
    "    if i.isalnum():\n",
    "        if i not in freq:\n",
    "            freq[i] = 1\n",
    "        elif i in freq:\n",
    "            freq[i] = freq[i] + 1\n",
    "    else:\n",
    "        pass\n",
    "\n",
    "sort = sorted(freq.items(), key = operator.itemgetter(0))\n",
    "print(sort)\n",
    "\n",
    "for i in sort:\n",
    "    print(i[0], i[1])"
   ]
  },
  {
   "cell_type": "code",
   "execution_count": 15,
   "metadata": {},
   "outputs": [
    {
     "data": {
      "text/plain": [
       "'Define a class Person and its two child classes: Male and Female. All classes have a\\nmethod getGender which can print Male for Male class and &quot;\\nFemale for Female class.'"
      ]
     },
     "execution_count": 15,
     "metadata": {},
     "output_type": "execute_result"
    }
   ],
   "source": [
    "'''Define a class Person and its two child classes: Male and Female. All classes have a\n",
    "method getGender which can print Male for Male class and Female for Female class.'''"
   ]
  },
  {
   "cell_type": "code",
   "execution_count": 17,
   "metadata": {},
   "outputs": [
    {
     "name": "stdout",
     "output_type": "stream",
     "text": [
      "I Play Hockey\n",
      "I Play Football\n",
      "I Love Hockey\n",
      "I Love Football\n",
      "You Play Hockey\n",
      "You Play Football\n",
      "You Love Hockey\n",
      "You Love Football\n"
     ]
    }
   ],
   "source": [
    "'''Please write a program to generate all sentences where subject is in [I, You] and\n",
    "verb is in [Play,Love] and the object is in [Hockey,Football]'''\n",
    "\n",
    "s=[\"I\", \"You\"]\n",
    "v=[\"Play\", \"Love\"]\n",
    "o=[\"Hockey\",\"Football\"]\n",
    "\n",
    "text = [[i, j, k] for i in s  \n",
    "                 for j in v \n",
    "                 for k in o] \n",
    "for x in text:\n",
    "    print(\" \".join(x))\n"
   ]
  },
  {
   "cell_type": "code",
   "execution_count": 23,
   "metadata": {},
   "outputs": [
    {
     "name": "stdout",
     "output_type": "stream",
     "text": [
      "Compressed String:  b'x\\x9c\\xcbH\\xcd\\xc9\\xc9W(\\xcf/\\xcaIQ\\xcc \\x82\\r\\x00\\xbd[\\x11\\xf5'\n",
      "b'hello world!hello world!hello world!hello world!'\n"
     ]
    }
   ],
   "source": [
    "'''Please write a program to compress and decompress the string hello world!hello\n",
    "world!hello world!hello world!.'''\n",
    "\n",
    "import zlib\n",
    "string = 'hello world!hello world!hello world!hello world!'.encode()\n",
    "compressed_string = zlib.compress(string)\n",
    "print(\"Compressed String: \",compressed_string)\n",
    "print(zlib.decompress(compressed_string))"
   ]
  },
  {
   "cell_type": "code",
   "execution_count": 28,
   "metadata": {},
   "outputs": [
    {
     "name": "stdout",
     "output_type": "stream",
     "text": [
      "Enter a number of items in list: 5\n",
      "enter number1\n",
      "enter number4\n",
      "enter number4\n",
      "enter number8\n",
      "enter number9\n",
      "enter a number to search4\n",
      "First occurrence of 4 is present at 1\n"
     ]
    }
   ],
   "source": [
    "'''Please write a binary search function which searches an item in a sorted list. The\n",
    "function should return the index of element to be searched in the list.'''\n",
    "\n",
    "from bisect import bisect_left\n",
    "  \n",
    "def BinarySearch(a, x):\n",
    "    i = bisect_left(a, x)\n",
    "    if i != len(a) and a[i] == x:\n",
    "        return i\n",
    "    else:\n",
    "        return -1\n",
    "  \n",
    "a  =[]\n",
    "n=int(input(\"Enter a number of items in list: \"))\n",
    "for i in range(n):\n",
    "    m = int(input(\"enter number\"))\n",
    "    a.insert(i, m)\n",
    "\n",
    "x = int(input(\"enter a number to search\"))\n",
    "res = BinarySearch(a, x)\n",
    "if res == -1:\n",
    "    print(x, \"is absent\")\n",
    "else:\n",
    "    print(\"First occurrence of\", x, \"is present at\", res)"
   ]
  },
  {
   "cell_type": "code",
   "execution_count": null,
   "metadata": {},
   "outputs": [],
   "source": []
  }
 ],
 "metadata": {
  "kernelspec": {
   "display_name": "Python 3",
   "language": "python",
   "name": "python3"
  },
  "language_info": {
   "codemirror_mode": {
    "name": "ipython",
    "version": 3
   },
   "file_extension": ".py",
   "mimetype": "text/x-python",
   "name": "python",
   "nbconvert_exporter": "python",
   "pygments_lexer": "ipython3",
   "version": "3.7.4"
  }
 },
 "nbformat": 4,
 "nbformat_minor": 2
}
