{
 "cells": [
  {
   "cell_type": "code",
   "execution_count": 3,
   "metadata": {},
   "outputs": [
    {
     "name": "stdout",
     "output_type": "stream",
     "text": [
      "Enter number of elements : 5\n",
      "a\n",
      "1\n",
      "4\n",
      "q\n",
      "7\n",
      "Entered List:  ['a', '1', '4', 'q', '7']\n",
      "1 4 7 "
     ]
    }
   ],
   "source": [
    "'''1. Create a function that takes a list of strings and integers, and filters out the list so that it\n",
    "returns a list of integers only.\n",
    "Examples\n",
    "filter_list([1, 2, 3, a, b, 4]) ➞ [1, 2, 3, 4]\n",
    "filter_list([A, 0, Edabit, 1729, Python, 1729]) ➞ [0, 1729]\n",
    "filter_list([Nothing, here]) ➞ []'''\n",
    "\n",
    "\n",
    "list1=[]\n",
    "n = int(input(\"Enter number of elements : \"))\n",
    "for i in range(0, n):\n",
    "    ele = (input())\n",
    "    list1.append(ele) # adding the element\n",
    "print(\"Entered List: \",list1)\n",
    "\n",
    "def listInt(list):\n",
    "    for i in list1:\n",
    "        if i.isnumeric()==True:\n",
    "            print(i,end=' ')\n",
    "            \n",
    "listInt(list1)"
   ]
  },
  {
   "cell_type": "code",
   "execution_count": 10,
   "metadata": {},
   "outputs": [
    {
     "name": "stdout",
     "output_type": "stream",
     "text": [
      "Enter number of elements : 5\n",
      "1\n",
      "2\n",
      "3\n",
      "4\n",
      "5\n",
      "Entered List:  [1, 2, 3, 4, 5]\n",
      "[1, 3, 5, 7, 9]\n"
     ]
    }
   ],
   "source": [
    "'''Given a list of numbers, create a function which returns the list but with each element's\n",
    "index in the list added to itself. This means you add 0 to the number at index 0, add 1 to the\n",
    "number at index 1, etc...\n",
    "Examples\n",
    "add_indexes([0, 0, 0, 0, 0]) ➞ [0, 1, 2, 3, 4]\n",
    "add_indexes([1, 2, 3, 4, 5]) ➞ [1, 3, 5, 7, 9]\n",
    "add_indexes([5, 4, 3, 2, 1]) ➞ [5, 5, 5, 5, 5]'''\n",
    "\n",
    "\n",
    "list1=[]\n",
    "n = int(input(\"Enter number of elements : \"))\n",
    "for i in range(0, n):\n",
    "    ele = int(input())\n",
    "    list1.append(ele) # adding the element\n",
    "print(\"Entered List: \",list1)\n",
    "\n",
    "def listadd(list1):\n",
    "    for i in range(0,n):\n",
    "        list1[i]=list1[i]+i\n",
    "    print(list1)\n",
    "\n",
    "listadd()"
   ]
  },
  {
   "cell_type": "code",
   "execution_count": 16,
   "metadata": {},
   "outputs": [
    {
     "name": "stdout",
     "output_type": "stream",
     "text": [
      "Enter height of cone: 15\n",
      "Enter radius of cone: 6\n",
      "Volume of cone:  565.49\n"
     ]
    }
   ],
   "source": [
    "'''Question3\n",
    "Create a function that takes the height and radius of a cone as arguments and returns the\n",
    "volume of the cone rounded to the nearest hundredth. See the resources tab for the formula.\n",
    "\n",
    "Examples\n",
    "cone_volume(3, 2) ➞ 12.57\n",
    "\n",
    "cone_volume(15, 6) ➞ 565.49\n",
    "cone_volume(18, 0) ➞ 0'''\n",
    "\n",
    "\n",
    "import math\n",
    "def cone(h,r):\n",
    "    V=(math.pi)*(r**2)*(h/3)\n",
    "    print(\"Volume of cone: \", round(V,2))\n",
    "\n",
    "h=int(input(\"Enter height of cone: \"))    \n",
    "r=int(input(\"Enter radius of cone: \"))\n",
    "cone(h,r)    "
   ]
  },
  {
   "cell_type": "code",
   "execution_count": null,
   "metadata": {},
   "outputs": [],
   "source": [
    "'''4.This Triangular Number Sequence is generated from a pattern of dots that form a triangle.\n",
    "The first 5 numbers of the sequence, or dots, are:\n",
    "1, 3, 6, 10, 15\n",
    "This means that the first triangle has just one dot, the second one has three dots, the third one\n",
    "has 6 dots and so on.\n",
    "Write a function that gives the number of dots with its corresponding triangle number of the\n",
    "sequence.'''\n"
   ]
  },
  {
   "cell_type": "code",
   "execution_count": 6,
   "metadata": {},
   "outputs": [
    {
     "name": "stdout",
     "output_type": "stream",
     "text": [
      "Enter element: 10\n",
      "Enter element: 5\n",
      "Enter element: 1\n",
      "Enter element: 2\n",
      "Enter element: 4\n",
      "Enter element: 6\n",
      "Enter element: 8\n",
      "Enter element: 3\n",
      "Enter element: 9\n",
      "Entered List:  [10, 5, 1, 2, 4, 6, 8, 3, 9]\n",
      "Missing number is:  7\n"
     ]
    }
   ],
   "source": [
    "'''5. Create a function that takes a list of numbers between 1 and 10 (excluding one number) and\n",
    "returns the missing number.\n",
    "Examples\n",
    "missing_num([1, 2, 3, 4, 6, 7, 8, 9, 10]) ➞ 5\n",
    "missing_num([7, 2, 3, 6, 5, 9, 1, 4, 8]) ➞ 10\n",
    "missing_num([10, 5, 1, 2, 4, 6, 8, 3, 9]) ➞ 7'''\n",
    "\n",
    "\n",
    "def number(list1,sum1):\n",
    "    print(\"Entered List: \",list1)\n",
    "    n=55-sum1\n",
    "    print('Missing number is: ',n)\n",
    "    \n",
    "sum1=0\n",
    "list1=[] \n",
    "for i in range(1, 10):\n",
    "    ele = int(input(\"Enter element: \"))\n",
    "    list1.append(ele)\n",
    "    sum1+=ele\n",
    "    \n",
    "number(list1,sum1)"
   ]
  },
  {
   "cell_type": "code",
   "execution_count": null,
   "metadata": {},
   "outputs": [],
   "source": []
  }
 ],
 "metadata": {
  "kernelspec": {
   "display_name": "Python 3",
   "language": "python",
   "name": "python3"
  },
  "language_info": {
   "codemirror_mode": {
    "name": "ipython",
    "version": 3
   },
   "file_extension": ".py",
   "mimetype": "text/x-python",
   "name": "python",
   "nbconvert_exporter": "python",
   "pygments_lexer": "ipython3",
   "version": "3.7.4"
  }
 },
 "nbformat": 4,
 "nbformat_minor": 2
}
