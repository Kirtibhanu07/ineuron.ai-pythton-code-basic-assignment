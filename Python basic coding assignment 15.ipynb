{
 "cells": [
  {
   "cell_type": "code",
   "execution_count": 1,
   "metadata": {},
   "outputs": [
    {
     "name": "stdout",
     "output_type": "stream",
     "text": [
      "enter a number: 100\n",
      "0\n",
      "35\n",
      "70\n"
     ]
    }
   ],
   "source": [
    "'''1. Please write a program using generator to print the numbers which can be divisible by 5 and\n",
    "7 between 0 and n in comma separated form while n is input by console.'''\n",
    "def putNumbers(n):\n",
    "    \n",
    "    i = 0\n",
    "\n",
    "    while i<n:\n",
    "\n",
    "        j=i\n",
    "\n",
    "        i=i+1\n",
    "\n",
    "        if j%5==0 and j%7==0:\n",
    "\n",
    "            yield j\n",
    "\n",
    "\n",
    "n=int(input(\"enter a number: \"))\n",
    "for i in putNumbers(n):\n",
    "\n",
    "    print(i)"
   ]
  },
  {
   "cell_type": "code",
   "execution_count": 14,
   "metadata": {},
   "outputs": [
    {
     "name": "stdout",
     "output_type": "stream",
     "text": [
      "enter a number: 15\n",
      "[0, 2, 4, 6, 8, 10, 12, 14]\n"
     ]
    }
   ],
   "source": [
    "'''2. Please write a program using generator to print the even numbers between 0 and n in comma\n",
    "separated form while n is input by console.'''\n",
    "def putNumbers(n):\n",
    "    \n",
    "    i = 0\n",
    "\n",
    "    while i<n:\n",
    "\n",
    "        j=i\n",
    "\n",
    "        i=i+1\n",
    "\n",
    "        if j%2==0:\n",
    "\n",
    "            yield j\n",
    "\n",
    "\n",
    "n=int(input(\"enter a number: \"))\n",
    "a=[]\n",
    "for i in putNumbers(n):\n",
    "\n",
    "    a.insert(n,i)\n",
    "print(a)"
   ]
  },
  {
   "cell_type": "code",
   "execution_count": 34,
   "metadata": {},
   "outputs": [
    {
     "name": "stdout",
     "output_type": "stream",
     "text": [
      "Enter a number: 9\n",
      "Fibonacci sequence:\n"
     ]
    },
    {
     "data": {
      "text/plain": [
       "[0, 2, 3, 4, 1, 5, 6, 7, 8]"
      ]
     },
     "execution_count": 34,
     "metadata": {},
     "output_type": "execute_result"
    }
   ],
   "source": [
    "'''3.The Fibonacci Sequence is computed based on the following formula:\n",
    "f(n)=0 if n=0\n",
    "f(n)=1 if n=1\n",
    "f(n)=f(n-1)+f(n-2) if n<1\n",
    "Please write a program using list comprehension to print the Fibonacci Sequence in comma\n",
    "separated form with a given n input by console.\n",
    "Example:\n",
    "If the following n is given as input to the program:\n",
    "7\n",
    "\n",
    "Then, the output of the program should be:\n",
    "0,1,1,2,3,5,8,13'''\n",
    "\n",
    "\n",
    "# Python program to display the Fibonacci sequence\n",
    "\n",
    "def recur_fibo(n):\n",
    "    if n <= 1:\n",
    "        return n\n",
    "    else:\n",
    "        return(recur_fibo(n-1) + recur_fibo(n-2))\n",
    "\n",
    "nterms = int(input(\"Enter a number: \"))\n",
    "\n",
    "if nterms <= 0:\n",
    "   print(\"Plese enter a positive integer\")\n",
    "else:\n",
    "   print(\"Fibonacci sequence:\")\n",
    "\n",
    "lst=[]\n",
    "for i in range(nterms):\n",
    "    lst.insert(recur_fibo(i),i)\n",
    "    \n",
    "lst"
   ]
  },
  {
   "cell_type": "code",
   "execution_count": 38,
   "metadata": {},
   "outputs": [
    {
     "name": "stdout",
     "output_type": "stream",
     "text": [
      "enter email id: john@google.com\n",
      "name:  john\n"
     ]
    }
   ],
   "source": [
    "'''4. Assuming that we have some email addresses in the 'username@companyname.com' format,\n",
    "please write program to print the user name of a given email address. Both user names and\n",
    "company names are composed of letters only.\n",
    "Example:\n",
    "If the following email address is given as input to the program:\n",
    "john@google.com\n",
    "Then, the output of the program should be:\n",
    "john'''\n",
    "\n",
    "def user(str):\n",
    "    len=str.split(\"@\")\n",
    "    return len[0]\n",
    "str=input(\"enter email id: \")\n",
    "name=user(str)\n",
    "print(\"name: \",name)\n"
   ]
  },
  {
   "cell_type": "code",
   "execution_count": 45,
   "metadata": {},
   "outputs": [
    {
     "name": "stdout",
     "output_type": "stream",
     "text": [
      "Enter length of square: 4\n",
      "Area of Square:  16\n"
     ]
    }
   ],
   "source": [
    "'''5. Define a class named Shape and its subclass Square. The Square class has an init function\n",
    "which takes a length as argument. Both classes have a area function which can print the area\n",
    "of the shape where Shape's area is 0 by default.'''\n",
    "\n",
    "\n",
    "class Square():\n",
    "    def __init__(self,l):\n",
    "        self.len = l\n",
    "\n",
    "    def area(self):\n",
    "        return (self.len**2)\n",
    "\n",
    "n=int(input('Enter length of square: '))\n",
    "square = Square(n)\n",
    "print(\"Area of Square: \",square.area())"
   ]
  },
  {
   "cell_type": "code",
   "execution_count": null,
   "metadata": {},
   "outputs": [],
   "source": []
  }
 ],
 "metadata": {
  "kernelspec": {
   "display_name": "Python 3",
   "language": "python",
   "name": "python3"
  },
  "language_info": {
   "codemirror_mode": {
    "name": "ipython",
    "version": 3
   },
   "file_extension": ".py",
   "mimetype": "text/x-python",
   "name": "python",
   "nbconvert_exporter": "python",
   "pygments_lexer": "ipython3",
   "version": "3.7.4"
  }
 },
 "nbformat": 4,
 "nbformat_minor": 2
}
