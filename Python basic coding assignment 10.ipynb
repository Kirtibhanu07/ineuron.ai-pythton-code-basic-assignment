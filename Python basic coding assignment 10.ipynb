{
 "cells": [
  {
   "cell_type": "code",
   "execution_count": 19,
   "metadata": {},
   "outputs": [
    {
     "name": "stdout",
     "output_type": "stream",
     "text": [
      "enter the number of elements: 5\n",
      "Enter a number\n",
      "1\n",
      "2\n",
      "3\n",
      "4\n",
      "5\n",
      "[1, 2, 3, 4, 5]\n",
      "sum of elements:  15\n"
     ]
    }
   ],
   "source": [
    "# 1. Write a Python program to find sum of elements in list?\n",
    "\n",
    "a=[]\n",
    "n=int(input(\"enter the number of elements: \"))\n",
    "total=0\n",
    "print(\"Enter a number\")\n",
    "for i in range(0,n):\n",
    "    num=int(input())\n",
    "    a.append(num)\n",
    "print(a) \n",
    "\n",
    "for i in range(0,n):\n",
    "    total=total+a[i]\n",
    "    \n",
    "print(\"sum of elements: \",total)    "
   ]
  },
  {
   "cell_type": "code",
   "execution_count": 17,
   "metadata": {},
   "outputs": [
    {
     "name": "stdout",
     "output_type": "stream",
     "text": [
      "enter the number of elements: 5\n",
      "1\n",
      "2\n",
      "3\n",
      "4\n",
      "5\n",
      "[1, 2, 3, 4, 5]\n",
      "sum of elements:  120\n"
     ]
    }
   ],
   "source": [
    "# 2. Write a Python program to Multiply all numbers in the list?\n",
    "\n",
    "a=[]\n",
    "n=int(input(\"enter the number of elements: \"))\n",
    "total=1\n",
    "for i in range(0,n):\n",
    "    num=int(input())\n",
    "    a.append(num)\n",
    "print(a) \n",
    "\n",
    "for i in range(0,n):\n",
    "    total=total*a[i]\n",
    "    \n",
    "print(\"product of elements: \",total)    "
   ]
  },
  {
   "cell_type": "code",
   "execution_count": 5,
   "metadata": {},
   "outputs": [
    {
     "name": "stdout",
     "output_type": "stream",
     "text": [
      "enter the number of elements: 5\n",
      "1\n",
      "2\n",
      "45\n",
      "22\n",
      "14\n",
      "[1, 2, 45, 22, 14]\n",
      "Smallest number is:  1\n"
     ]
    }
   ],
   "source": [
    "#3. Write a Python program to find smallest number in a list?\n",
    "\n",
    "a=[]\n",
    "n=int(input(\"enter the number of elements: \"))\n",
    "total=1\n",
    "for i in range(0,n):\n",
    "    num=int(input())\n",
    "    a.append(num)\n",
    "print(a) \n",
    "\n",
    "min=a[1]\n",
    "\n",
    "for i in range(0,n):\n",
    "    if(min>a[i]):\n",
    "        min=a[i]\n",
    "        \n",
    "print(\"Smallest number is: \",min)"
   ]
  },
  {
   "cell_type": "code",
   "execution_count": 8,
   "metadata": {},
   "outputs": [
    {
     "name": "stdout",
     "output_type": "stream",
     "text": [
      "enter the number of elements: 5\n",
      "12\n",
      "14\n",
      "19\n",
      "21\n",
      "18\n",
      "[12, 14, 19, 21, 18]\n",
      "Largest number is:  21\n"
     ]
    }
   ],
   "source": [
    "# 4. Write a Python program to find largest number in a list?\n",
    "\n",
    "a=[]\n",
    "n=int(input(\"enter the number of elements: \"))\n",
    "total=1\n",
    "for i in range(0,n):\n",
    "    num=int(input())\n",
    "    a.append(num)\n",
    "print(a) \n",
    "\n",
    "max=a[1]\n",
    "\n",
    "for i in range(0,n):\n",
    "    if(max<a[i]):\n",
    "        max=a[i]\n",
    "        \n",
    "print(\"Largest number is: \",max)"
   ]
  },
  {
   "cell_type": "code",
   "execution_count": null,
   "metadata": {},
   "outputs": [],
   "source": [
    "# 5. Write a Python program to find second largest number in a list?\n",
    "\n",
    "a=[]\n",
    "n=int(input(\"enter the number of elements: \"))\n",
    "\n",
    "total=1\n",
    "for i in range(0,n):\n",
    "    num=int(input())\n",
    "    a.append(num)\n",
    "print(a) \n",
    "a.sort()\n",
    "print(\"Second Largest number in the list is: \",a[-2])"
   ]
  },
  {
   "cell_type": "code",
   "execution_count": 1,
   "metadata": {},
   "outputs": [
    {
     "name": "stdout",
     "output_type": "stream",
     "text": [
      "Enter N2\n",
      "enter the number of elements: 5\n",
      "12\n",
      "14\n",
      "10\n",
      "11\n",
      "13\n",
      "[12, 14, 10, 11, 13]\n",
      "[14, 13]\n"
     ]
    }
   ],
   "source": [
    "# 6. Write a Python program to find N largest elements from a list?\n",
    "\n",
    "def elements(list, N):\n",
    "    final_list = []\n",
    "  \n",
    "    for i in range(0, N): \n",
    "        max1 = 0\n",
    "          \n",
    "        for j in range(len(list)):     \n",
    "            if list[j] > max1:\n",
    "                max1 = list[j];\n",
    "                  \n",
    "        list.remove(max1);\n",
    "        final_list.append(max1)\n",
    "          \n",
    "    print(final_list)\n",
    "  \n",
    "N=int(input(\"Enter N\"))\n",
    "\n",
    "list=[]\n",
    "n=int(input(\"enter the number of elements: \"))\n",
    "\n",
    "total=1\n",
    "for i in range(0,n):\n",
    "    num=int(input())\n",
    "    list.append(num)\n",
    "print(list)\n",
    "  \n",
    "elements(list, N)"
   ]
  },
  {
   "cell_type": "code",
   "execution_count": 4,
   "metadata": {},
   "outputs": [
    {
     "name": "stdout",
     "output_type": "stream",
     "text": [
      "enter the number of elements: 5\n",
      "11\n",
      "12\n",
      "14\n",
      "16\n",
      "13\n",
      "[11, 12, 14, 16, 13]\n",
      "Even Elements in the list: \n",
      "12\n",
      "14\n",
      "16\n"
     ]
    }
   ],
   "source": [
    "# 7. Write a Python program to print even numbers in a list?\n",
    "\n",
    "a=[]\n",
    "n=int(input(\"enter the number of elements: \"))\n",
    "\n",
    "\n",
    "for i in range(0,n):\n",
    "    num=int(input())\n",
    "    a.append(num)\n",
    "    \n",
    "print(a)\n",
    "print(\"Even Elements in the list: \")\n",
    "for i in range(0,n):\n",
    "    if(a[i]%2==0):\n",
    "        print(a[i])\n",
    "        "
   ]
  },
  {
   "cell_type": "code",
   "execution_count": 5,
   "metadata": {},
   "outputs": [
    {
     "name": "stdout",
     "output_type": "stream",
     "text": [
      "enter the number of elements: 5\n",
      "14\n",
      "12\n",
      "13\n",
      "15\n",
      "11\n",
      "[14, 12, 13, 15, 11]\n",
      "Odd Elements in the list: \n",
      "13\n",
      "15\n",
      "11\n"
     ]
    }
   ],
   "source": [
    "# 8. Write a Python program to print odd numbers in a List?\n",
    "\n",
    "a=[]\n",
    "n=int(input(\"enter the number of elements: \"))\n",
    "\n",
    "\n",
    "for i in range(0,n):\n",
    "    num=int(input())\n",
    "    a.append(num)\n",
    "    \n",
    "print(a)\n",
    "print(\"Odd Elements in the list: \")\n",
    "for i in range(0,n):\n",
    "    if(a[i]%2!=0):\n",
    "        print(a[i])"
   ]
  },
  {
   "cell_type": "code",
   "execution_count": 4,
   "metadata": {},
   "outputs": [
    {
     "name": "stdout",
     "output_type": "stream",
     "text": [
      "The original list is : [[], 10, [], [], 9]\n",
      "List after empty list removal : [10, 9]\n"
     ]
    }
   ],
   "source": [
    "# 9. Write a Python program to Remove empty List from List?\n",
    "list = [[], 10, [], [], 9]\n",
    "  \n",
    "print(\"The original list is : \" + str(list))\n",
    "\n",
    "res = [i for i in list if i != []]\n",
    "  \n",
    "print (\"List after empty list removal : \" + str(res))"
   ]
  },
  {
   "cell_type": "code",
   "execution_count": 1,
   "metadata": {},
   "outputs": [
    {
     "name": "stdout",
     "output_type": "stream",
     "text": [
      "enter the number of elements: 3\n",
      "12\n",
      "15\n",
      "14\n",
      "List: [12, 15, 14]\n",
      "After Cloning: [12, 15, 14]\n"
     ]
    }
   ],
   "source": [
    "# 10. Write a Python program to Cloning or Copying a list?\n",
    "\n",
    "a=[]\n",
    "n=int(input(\"enter the number of elements: \"))\n",
    "for i in range(0,n):\n",
    "    num=int(input())\n",
    "    a.append(num)\n",
    "\n",
    "def cloning(a):\n",
    "    l_clone=[]\n",
    "    l_clone.extend(a)\n",
    "    return l_clone\n",
    "\n",
    "l1=cloning(a)\n",
    "print(\"List: \"+ str(a))\n",
    "print(\"After Cloning: \"+str(l1))"
   ]
  },
  {
   "cell_type": "code",
   "execution_count": 10,
   "metadata": {},
   "outputs": [
    {
     "name": "stdout",
     "output_type": "stream",
     "text": [
      "enter the number of elements: 6\n",
      "1\n",
      "2\n",
      "1\n",
      "3\n",
      "4\n",
      "1\n",
      "[1, 2, 1, 3, 4, 1]\n",
      "enter the element to find its occurance count1\n",
      "1 has occurred 3 times\n"
     ]
    }
   ],
   "source": [
    "# 11. Write a Python program to Count occurrences of an element in a list?\n",
    "\n",
    "a=[]\n",
    "n=int(input(\"enter the number of elements: \"))\n",
    "for i in range(0,n):\n",
    "    num=int(input())\n",
    "    a.append(num)\n",
    "print(a)\n",
    "x=int(input(\"enter the element to find its occurance count\"))\n",
    "def countX(a, x):\n",
    "    count = 0\n",
    "    for ele in a:\n",
    "        if (ele == x):\n",
    "            count = count + 1\n",
    "    return count\n",
    " \n",
    "print('{} has occurred {} times'.format(x, countX(a, x)))\n",
    "\n"
   ]
  },
  {
   "cell_type": "code",
   "execution_count": null,
   "metadata": {},
   "outputs": [],
   "source": []
  }
 ],
 "metadata": {
  "kernelspec": {
   "display_name": "Python 3",
   "language": "python",
   "name": "python3"
  },
  "language_info": {
   "codemirror_mode": {
    "name": "ipython",
    "version": 3
   },
   "file_extension": ".py",
   "mimetype": "text/x-python",
   "name": "python",
   "nbconvert_exporter": "python",
   "pygments_lexer": "ipython3",
   "version": "3.7.4"
  }
 },
 "nbformat": 4,
 "nbformat_minor": 2
}
