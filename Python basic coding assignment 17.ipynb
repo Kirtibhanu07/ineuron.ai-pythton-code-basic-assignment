{
 "cells": [
  {
   "cell_type": "code",
   "execution_count": 2,
   "metadata": {},
   "outputs": [
    {
     "name": "stdout",
     "output_type": "stream",
     "text": [
      "Enter A:1\n",
      "Enter B: 10\n",
      "Enter C: 2\n",
      "sum:  30\n"
     ]
    }
   ],
   "source": [
    "'''Create a function that takes three arguments a, b, c and returns the sum of the\n",
    "numbers that are evenly divided by c from the range a, b inclusive.\n",
    "Examples\n",
    "evenly_divisible(1, 10, 20) ➞ 0\n",
    "# No number between 1 and 10 can be evenly divided by 20.\n",
    "evenly_divisible(1, 10, 2) ➞ 30\n",
    "# 2 + 4 + 6 + 8 + 10 = 30\n",
    "evenly_divisible(1, 10, 3) ➞ 18\n",
    "# 3 + 6 + 9 = 18'''\n",
    "\n",
    "def div(a,b,c):\n",
    "    sum=0\n",
    "    for i in range(a,b+1):\n",
    "        if i%c==0:\n",
    "            sum=sum+i\n",
    "    print(\"sum: \",sum)\n",
    "\n",
    "a=int(input(\"Enter A:\"))\n",
    "b=int(input(\"Enter B: \"))\n",
    "c=int(input(\"Enter C: \"))\n",
    "div(a,b,c)"
   ]
  },
  {
   "cell_type": "code",
   "execution_count": null,
   "metadata": {},
   "outputs": [],
   "source": [
    "'''Question2. Create a function that returns True if a given inequality expression is correct and\n",
    "False otherwise.\n",
    "Examples\n",
    "correct_signs(3  <7 < 11) ➞ True\n",
    "correct_signs(13  >44 > 33>  1) ➞ False\n",
    "correct_signs(1  < 6 < 9 > 3) ➞ True'''\n",
    "\n",
    "a=int(input(\"Enter number of exp:\"))\n",
    "for i in range(a):\n",
    "    n=int(input(\"enter numbers: \"))\n",
    "    s=input(\"enter expression: \")\n",
    "    num=[]\n",
    "    exp=[]\n",
    "    num.insert(n)\n",
    "    exp.insert(s)\n",
    "    if \n",
    "    \n",
    "\n",
    "\n",
    "def equal():\n",
    "    \n",
    "    "
   ]
  },
  {
   "cell_type": "code",
   "execution_count": 9,
   "metadata": {},
   "outputs": [
    {
     "name": "stdout",
     "output_type": "stream",
     "text": [
      "enter a string: shakespeare\n",
      "enter expression: *\n",
      "Sting: shakespeare\n",
      "character: *\n",
      "Afer replacing vowels with the specified character: sh*k*sp**r*\n"
     ]
    }
   ],
   "source": [
    "'''3. Create a function that replaces all the vowels in a string with a specified character.\n",
    "Examples\n",
    "replace_vowels(the aardvark, #) ➞ th# ##rdv#rk\n",
    "replace_vowels(minnie mouse, ?) ➞ m?nn?? m??s?\n",
    "replace_vowels(shakespeare, *) ➞ sh*k*sp**r*'''\n",
    "\n",
    "def replace(test, exp):\n",
    "    vowels = 'AEIOUaeiou'\n",
    "    for ele in vowels:     \n",
    "        test = test.replace(ele, exp)\n",
    "  \n",
    "    return test\n",
    "\n",
    "test=input('enter a string: ')\n",
    "ch=input('enter expression: ')\n",
    "\n",
    "print(\"Sting:\", test)\n",
    "print(\"character:\", exp)\n",
    "print(\"Afer replacing vowels with the specified character:\",replace(test, ch))"
   ]
  },
  {
   "cell_type": "code",
   "execution_count": 11,
   "metadata": {},
   "outputs": [
    {
     "name": "stdout",
     "output_type": "stream",
     "text": [
      "Enter a number: 5\n",
      "Factorial of 5 is 120\n"
     ]
    }
   ],
   "source": [
    "'''4. Write a function that calculates the factorial of a number recursively.\n",
    "Examples\n",
    "factorial(5) ➞ 120\n",
    "factorial(3) ➞ 6\n",
    "factorial(1) ➞ 1\n",
    "factorial(0) ➞ 1'''\n",
    "\n",
    "def factorial(n):\n",
    "    return 1 if (n == 1 or n == 0) else n * factorial(n - 1) \n",
    "  \n",
    "num = int(input(\"Enter a number: \"))\n",
    "print (\"Factorial of\", num, \"is\",\n",
    "      factorial(num))"
   ]
  },
  {
   "cell_type": "code",
   "execution_count": 14,
   "metadata": {},
   "outputs": [
    {
     "name": "stdout",
     "output_type": "stream",
     "text": [
      "Enter string1: abcde\n",
      "Enter string2: bccdf\n",
      "3\n"
     ]
    }
   ],
   "source": [
    "'''5. Hamming distance is the number of characters that differ between two strings.\n",
    "To illustrate:\n",
    "String1: abcbba\n",
    "String2: abcbda\n",
    "Hamming Distance: 1 - b vs. d is the only difference.\n",
    "Create a function that computes the hamming distance between two strings.\n",
    "Examples\n",
    "hamming_distance(abcde, bcdef) ➞ 5\n",
    "hamming_distance(abcde, abcde) ➞ 0\n",
    "hamming_distance(strong, strung) ➞ 1'''\n",
    "\n",
    "def hammingdistance(str1, str2):\n",
    "    i = 0\n",
    "    count = 0\n",
    " \n",
    "    while(i < len(str1)):\n",
    "        if(str1[i] != str2[i]):\n",
    "            count += 1\n",
    "        i += 1\n",
    "    return count\n",
    " \n",
    "str1 = input(\"Enter string1: \")\n",
    "str2 = input(\"Enter string2: \")\n",
    "print(hammingdistance(str1, str2))\n",
    "    \n",
    "    "
   ]
  },
  {
   "cell_type": "code",
   "execution_count": null,
   "metadata": {},
   "outputs": [],
   "source": []
  },
  {
   "cell_type": "code",
   "execution_count": null,
   "metadata": {},
   "outputs": [],
   "source": []
  }
 ],
 "metadata": {
  "kernelspec": {
   "display_name": "Python 3",
   "language": "python",
   "name": "python3"
  },
  "language_info": {
   "codemirror_mode": {
    "name": "ipython",
    "version": 3
   },
   "file_extension": ".py",
   "mimetype": "text/x-python",
   "name": "python",
   "nbconvert_exporter": "python",
   "pygments_lexer": "ipython3",
   "version": "3.7.4"
  }
 },
 "nbformat": 4,
 "nbformat_minor": 2
}
